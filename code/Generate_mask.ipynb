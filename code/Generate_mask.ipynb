{
 "cells": [
  {
   "cell_type": "code",
   "execution_count": 1,
   "id": "fe8ce931-6331-4623-a4c8-5a87a9036335",
   "metadata": {},
   "outputs": [],
   "source": [
    "import cv2\n",
    "import treepoem\n",
    "import numpy as np\n",
    "from matplotlib import pyplot as plt"
   ]
  },
  {
   "cell_type": "code",
   "execution_count": 91,
   "id": "d8615175-ae9c-4cbc-be82-b98ea608145b",
   "metadata": {},
   "outputs": [
    {
     "data": {
      "image/png": "[encoded data removed]",
      "text/plain": [
       "<PIL.PngImagePlugin.PngImageFile image mode=RGB size=190x144>"
      ]
     },
     "execution_count": 91,
     "metadata": {},
     "output_type": "execute_result"
    }
   ],
   "source": [
    "bar = treepoem.generate_barcode('ean13', '100000011111')\n",
    "bar"
   ]
  },
  {
   "cell_type": "code",
   "execution_count": 92,
   "id": "efb0a305-31c0-469f-86c2-fc9926dc997f",
   "metadata": {},
   "outputs": [],
   "source": [
    "bar = np.array(bar)"
   ]
  },
  {
   "cell_type": "code",
   "execution_count": 93,
   "id": "cc455b60-ed3d-4381-ba5d-45485345440d",
   "metadata": {},
   "outputs": [],
   "source": [
    "bar[:10, :10, 0] = 255\n",
    "bar[:10, :10, 1] = 0\n",
    "bar[:10, :10, 2] = 0\n",
    "\n",
    "bar[-10:, -10:, 0] = 0\n",
    "bar[-10:, -10:, 1] = 0\n",
    "bar[-10:, -10:, 2] = 255\n",
    "\n",
    "bar[:10, -10:, 0] = 0\n",
    "bar[:10, -10:, 1] = 255\n",
    "bar[:10, -10:, 2] = 0"
   ]
  },
  {
   "cell_type": "code",
   "execution_count": 94,
   "id": "014b0028-fc7f-497d-afe5-defff2d4f3fd",
   "metadata": {},
   "outputs": [
    {
     "data": {
      "text/plain": [
       "<matplotlib.image.AxesImage at 0x2ae301a0710>"
      ]
     },
     "execution_count": 94,
     "metadata": {},
     "output_type": "execute_result"
    },
    {
     "data": {
      "image/png": "[encoded data removed]",
      "text/plain": [
       "<Figure size 640x480 with 1 Axes>"
      ]
     },
     "metadata": {},
     "output_type": "display_data"
    }
   ],
   "source": [
    "plt.imshow(bar)"
   ]
  },
  {
   "cell_type": "code",
   "execution_count": null,
   "id": "d83c6547-bd3d-4595-ae83-0adc6f52f7af",
   "metadata": {},
   "outputs": [],
   "source": [
    "def align_affine_matrix(img, M):\n",
    "    rows, cols, ch = img.shape\n",
    "    "
   ]
  },
  {
   "cell_type": "code",
   "execution_count": 171,
   "id": "7f8181e7-14b1-48db-aed6-36c6f3414508",
   "metadata": {},
   "outputs": [
    {
     "name": "stdout",
     "output_type": "stream",
     "text": [
      "[[  0.       199.00743   -0.      ]\n",
      " [ 19.900743   0.        -0.      ]]\n",
      "[[    0.     0.]\n",
      " [28657.     0.]\n",
      " [    0.  3781.]\n",
      " [28657.  3781.]]\n"
     ]
    },
    {
     "data": {
      "text/plain": [
       "<matplotlib.image.AxesImage at 0x2ae3b6ef1d0>"
      ]
     },
     "execution_count": 171,
     "metadata": {},
     "output_type": "execute_result"
    },
    {
     "data": {
      "image/png": "[encoded data removed]",
      "text/plain": [
       "<Figure size 640x480 with 1 Axes>"
      ]
     },
     "metadata": {},
     "output_type": "display_data"
    }
   ],
   "source": [
    "rows, cols, ch = bar.shape\n",
    "M = np.array([\n",
    "    [0., 1, 0],\n",
    "    [0.1, 0., 0]\n",
    "], dtype=np.float32)\n",
    "M /= np.linalg.norm(M)*0.005\n",
    "# M = cv2.getRotationMatrix2D((0, 0), 45, 1)\n",
    "M[:,-1] = -np.min(M@corners, axis=-1)\n",
    "new_sz = np.round(np.max(M@corners, axis=-1)).astype(np.int32)\n",
    "# new_sz = (500, 500)\n",
    "img = cv2.warpAffine(bar, M, new_sz)\n",
    "print(M)\n",
    "print(np.round((M@corners).T))\n",
    "plt.imshow(img)"
   ]
  },
  {
   "cell_type": "code",
   "execution_count": 165,
   "id": "46ae7110-0159-440b-b137-0770e7acf656",
   "metadata": {},
   "outputs": [
    {
     "data": {
      "text/plain": [
       "0.42426407"
      ]
     },
     "execution_count": 165,
     "metadata": {},
     "output_type": "execute_result"
    }
   ],
   "source": [
    "np.linalg.norm(M)"
   ]
  },
  {
   "cell_type": "code",
   "execution_count": 163,
   "id": "2cec8ecd-693e-4c32-8f94-7d5ce94a513f",
   "metadata": {},
   "outputs": [
    {
     "data": {
      "text/plain": [
       "array([144.        , 238.40302012, 144.        ])"
      ]
     },
     "execution_count": 163,
     "metadata": {},
     "output_type": "execute_result"
    }
   ],
   "source": [
    "np.linalg.norm((corners)[:,:-1]-(corners)[:,1:], axis=0)"
   ]
  },
  {
   "cell_type": "code",
   "execution_count": 162,
   "id": "8855e2f2-322c-47e8-8c57-f28c8e7b3467",
   "metadata": {},
   "outputs": [
    {
     "data": {
      "text/plain": [
       "array([43.20000172, 71.52090888, 43.20000172])"
      ]
     },
     "execution_count": 162,
     "metadata": {},
     "output_type": "execute_result"
    }
   ],
   "source": [
    "np.linalg.norm((M@corners)[:,:-1]-(M@corners)[:,1:], axis=0)"
   ]
  },
  {
   "cell_type": "code",
   "execution_count": 128,
   "id": "d8c323da-7b53-4925-b880-2679b6a28174",
   "metadata": {},
   "outputs": [],
   "source": [
    "corners = np.array([[y,x,1] for y in [0, cols] for x in [0, rows]]).T"
   ]
  },
  {
   "cell_type": "code",
   "execution_count": 129,
   "id": "05362d63-3305-4d8b-a3c3-43d039ce4f29",
   "metadata": {},
   "outputs": [
    {
     "data": {
      "text/plain": [
       "array([[  0,   0,   1],\n",
       "       [  0, 144,   1],\n",
       "       [190,   0,   1],\n",
       "       [190, 144,   1]])"
      ]
     },
     "execution_count": 129,
     "metadata": {},
     "output_type": "execute_result"
    }
   ],
   "source": [
    "corners.T"
   ]
  },
  {
   "cell_type": "code",
   "execution_count": 112,
   "id": "a8f0b271-eaf0-466b-be9c-0a8a2a326499",
   "metadata": {},
   "outputs": [
    {
     "data": {
      "text/plain": [
       "array([134.35028843,  32.52691193])"
      ]
     },
     "execution_count": 112,
     "metadata": {},
     "output_type": "execute_result"
    }
   ],
   "source": [
    "M@[0, 190, 1]"
   ]
  },
  {
   "cell_type": "code",
   "execution_count": 37,
   "id": "8b5600af-ff84-43a9-923d-f3142327aeba",
   "metadata": {},
   "outputs": [
    {
     "data": {
      "text/plain": [
       "(144, 190, 3)"
      ]
     },
     "execution_count": 37,
     "metadata": {},
     "output_type": "execute_result"
    }
   ],
   "source": [
    "bar.shape"
   ]
  },
  {
   "cell_type": "code",
   "execution_count": null,
   "id": "2c90a557-f962-4dc7-a1c0-f4526429647f",
   "metadata": {},
   "outputs": [],
   "source": [
    "img.shape"
   ]
  },
  {
   "cell_type": "code",
   "execution_count": null,
   "id": "83522d18-24ca-4667-9d1c-a1a44d1c0f61",
   "metadata": {},
   "outputs": [],
   "source": []
  }
 ],
 "metadata": {
  "kernelspec": {
   "display_name": "Python 3 (ipykernel)",
   "language": "python",
   "name": "python3"
  },
  "language_info": {
   "codemirror_mode": {
    "name": "ipython",
    "version": 3
   },
   "file_extension": ".py",
   "mimetype": "text/x-python",
   "name": "python",
   "nbconvert_exporter": "python",
   "pygments_lexer": "ipython3",
   "version": "3.11.4"
  }
 },
 "nbformat": 4,
 "nbformat_minor": 5
}
