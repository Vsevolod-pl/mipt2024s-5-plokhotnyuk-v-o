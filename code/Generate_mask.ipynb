{
 "cells": [
  {
   "cell_type": "code",
   "execution_count": 1,
   "id": "fe8ce931-6331-4623-a4c8-5a87a9036335",
   "metadata": {},
   "outputs": [],
   "source": [
    "import cv2\n",
    "import json\n",
    "import treepoem\n",
    "import numpy as np\n",
    "from pathlib import Path\n",
    "from matplotlib import pyplot as plt"
   ]
  },
  {
   "cell_type": "code",
   "execution_count": 2,
   "id": "d8615175-ae9c-4cbc-be82-b98ea608145b",
   "metadata": {},
   "outputs": [
    {
     "data": {
      "image/png": "[encoded data removed]",
      "text/plain": [
       "<PIL.PngImagePlugin.PngImageFile image mode=RGB size=190x144>"
      ]
     },
     "execution_count": 2,
     "metadata": {},
     "output_type": "execute_result"
    }
   ],
   "source": [
    "barimg = treepoem.generate_barcode('ean13', '100000011111')\n",
    "barimg"
   ]
  },
  {
   "cell_type": "code",
   "execution_count": 3,
   "id": "cc455b60-ed3d-4381-ba5d-45485345440d",
   "metadata": {},
   "outputs": [
    {
     "data": {
      "text/plain": [
       "<matplotlib.image.AxesImage at 0x1f1e2714350>"
      ]
     },
     "execution_count": 3,
     "metadata": {},
     "output_type": "execute_result"
    },
    {
     "data": {
      "image/png": "[encoded data removed]",
      "text/plain": [
       "<Figure size 640x480 with 1 Axes>"
      ]
     },
     "metadata": {},
     "output_type": "display_data"
    }
   ],
   "source": [
    "bar = np.array(barimg).copy()\n",
    "bar[-10:, :10] = [255, 0, 0]\n",
    "bar[:10, :10] = [0, 255, 0]\n",
    "bar[:10, -10:] = [0, 0, 255]\n",
    "\n",
    "plt.imshow(bar)"
   ]
  },
  {
   "cell_type": "code",
   "execution_count": 82,
   "id": "fab7aa93-a864-4cda-a678-9d296787e422",
   "metadata": {},
   "outputs": [],
   "source": [
    "def generate_perspective_distort(corners, alpha=0.1, beta=0.01):\n",
    "    M = np.zeros((3,3))\n",
    "    M[:-1,:-1] = np.random.randn(2, 2)*alpha + np.eye(2)*(1.-alpha)\n",
    "    M[-1, :-1] = beta*np.abs(np.random.randn(1,2))\n",
    "    M[:-1,-1] *= 0\n",
    "    M[-1,-1] = 1\n",
    "    coords = (M@corners)[:-1]\n",
    "    M[:-1,-1] = -np.min(coords, axis=-1)\n",
    "    return M\n",
    "\n",
    "def aligned_perspective(img):\n",
    "    height, width, _ = img.shape\n",
    "    corners = np.array([[x*width, y*height, 1] for x, y in zip(xps, yps)]).T\n",
    "    M = generate_perspective_distort(corners)\n",
    "    coords = M@corners\n",
    "    coords = coords[:-1]/coords[-1]\n",
    "    \n",
    "    new_sz = np.ceil(np.max(coords, axis=-1)).astype(np.int32)\n",
    "    \n",
    "    img = cv2.warpPerspective(bar, M, new_sz)\n",
    "    return img, coords"
   ]
  },
  {
   "cell_type": "code",
   "execution_count": 83,
   "id": "679879ce-ff09-4d95-b9ae-3e76afc83e72",
   "metadata": {},
   "outputs": [],
   "source": []
  },
  {
   "cell_type": "code",
   "execution_count": 106,
   "id": "2e702ed3-a41f-472c-b96a-b3b0b77846b1",
   "metadata": {},
   "outputs": [
    {
     "data": {
      "text/plain": [
       "array([[ 6.03467098,  0.        , 75.12466214, 49.16142689],\n",
       "       [45.21393661,  0.        ,  1.73722471, 30.34407946]])"
      ]
     },
     "execution_count": 106,
     "metadata": {},
     "output_type": "execute_result"
    },
    {
     "data": {
      "image/png": "[encoded data removed]",
      "text/plain": [
       "<Figure size 640x480 with 1 Axes>"
      ]
     },
     "metadata": {},
     "output_type": "display_data"
    }
   ],
   "source": [
    "xps = [0, 0, 1, 1]\n",
    "yps = [1, 0, 0, 1]\n",
    "\n",
    "height, width, _ = bar.shape\n",
    "corners = np.array([[x*width, y*height, 1] for x, y in zip(xps, yps)]).T\n",
    "M = generate_perspective_distort(corners)\n",
    "coords = M@corners\n",
    "coords = coords[:-1]/coords[-1]\n",
    "\n",
    "new_sz = np.ceil(np.max(coords, axis=-1)).astype(np.int32)\n",
    "\n",
    "img = cv2.warpPerspective(bar, M, new_sz)\n",
    "plt.imshow(img)\n",
    "coords"
   ]
  },
  {
   "cell_type": "code",
   "execution_count": null,
   "id": "990a235f-b163-463b-93ab-2d964302b473",
   "metadata": {},
   "outputs": [],
   "source": [
    "# M = [\n",
    "#     [1, 0, 0.],\n",
    "#     [0, 1, 0.]\n",
    "# ]\n",
    "# M = np.array(M)\n",
    "M = np.random.randn(2, 3)\n",
    "M[:, -1] = np.abs(M[:, -1]*100)\n",
    "img, coords = aligned_affine(bar, M.copy(), fix_position=True)\n",
    "plt.imshow(img)"
   ]
  },
  {
   "cell_type": "code",
   "execution_count": null,
   "id": "984a30e3-f0ee-4593-bcbb-7a8c378bf592",
   "metadata": {},
   "outputs": [],
   "source": [
    "coords"
   ]
  },
  {
   "cell_type": "code",
   "execution_count": null,
   "id": "2077160c-61d0-4802-94b6-6cb5459b64d1",
   "metadata": {},
   "outputs": [],
   "source": [
    "np.min([coords, coords, coords], axis=(0, 2))"
   ]
  },
  {
   "cell_type": "code",
   "execution_count": null,
   "id": "83522d18-24ca-4667-9d1c-a1a44d1c0f61",
   "metadata": {},
   "outputs": [],
   "source": [
    "def load_json(fname, *args, **kwargs):\n",
    "    with open(fname) as f:\n",
    "        return json.load(f, *args, **kwargs)\n",
    "\n",
    "def save_json(jd, fname, *args, indent=4, **kwargs):\n",
    "    with open(fname, 'w') as f:\n",
    "        json.dump(jd, f, *args, indent=indent, **kwargs)"
   ]
  },
  {
   "cell_type": "code",
   "execution_count": null,
   "id": "964815ea-7fda-42ab-ae7d-8343000d6703",
   "metadata": {},
   "outputs": [],
   "source": [
    "load_json('../dataset/multiple_barcodes_example.json')"
   ]
  },
  {
   "cell_type": "code",
   "execution_count": null,
   "id": "8fe76e0a-3807-4d1a-b65e-4cf603927661",
   "metadata": {},
   "outputs": [],
   "source": [
    "len('100000011111')"
   ]
  },
  {
   "cell_type": "code",
   "execution_count": null,
   "id": "e14babb7-c472-4aa5-b5b5-dee15c64f1fd",
   "metadata": {},
   "outputs": [],
   "source": [
    "treepoem.barcode_types['code93']"
   ]
  },
  {
   "cell_type": "code",
   "execution_count": null,
   "id": "e2892c1a-89a2-45ec-9e5b-cae856988e53",
   "metadata": {},
   "outputs": [],
   "source": [
    "np.random.choice(list(treepoem.barcode_types), 7)"
   ]
  }
 ],
 "metadata": {
  "kernelspec": {
   "display_name": "Python 3 (ipykernel)",
   "language": "python",
   "name": "python3"
  },
  "language_info": {
   "codemirror_mode": {
    "name": "ipython",
    "version": 3
   },
   "file_extension": ".py",
   "mimetype": "text/x-python",
   "name": "python",
   "nbconvert_exporter": "python",
   "pygments_lexer": "ipython3",
   "version": "3.11.4"
  }
 },
 "nbformat": 4,
 "nbformat_minor": 5
}
