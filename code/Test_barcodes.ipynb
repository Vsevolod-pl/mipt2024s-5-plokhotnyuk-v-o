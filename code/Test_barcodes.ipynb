{
 "cells": [
  {
   "cell_type": "code",
   "execution_count": 11,
   "id": "c870c5af-7df5-4a39-934f-96e243d1fba5",
   "metadata": {},
   "outputs": [],
   "source": [
    "import treepoem\n",
    "import numpy as np\n",
    "from matplotlib import pyplot as plt"
   ]
  },
  {
   "cell_type": "code",
   "execution_count": 1,
   "id": "a9ffb194-aa4a-4f74-9d39-aadcb77134e6",
   "metadata": {},
   "outputs": [],
   "source": [
    "from data_generator import gens"
   ]
  },
  {
   "cell_type": "code",
   "execution_count": 27,
   "id": "b93055f2-5a30-493c-b71a-dd248287a1d8",
   "metadata": {},
   "outputs": [
    {
     "name": "stdout",
     "output_type": "stream",
     "text": [
      "ean13 '684258720442'\n",
      "upca '0451019'\n",
      "plessey 'D1A7CE96933FDC09AC30'\n",
      "code39 'X251S2ZQTUJ'\n",
      "code93 'PPACZE79OI8R G$ZO8W4UKRFNSJ/I3$3%EWHZ'\n",
      "datamatrix '}GUQ!~%:WhB}4!!NW=kVm!C}qjuAo'\n",
      "qrcode \"EcWT{<Nc-(C[z'Ig%DOT]4{ L#tO\"\n",
      "azteccode \"*>3~HKa^a8Ya#,E1)fY_yrWJN=wH'\\\\&Cv3F\"\n",
      "aztecrune '30'\n",
      "microqrcode '/NRt'\n"
     ]
    }
   ],
   "source": [
    "printable = '0123456789abcdefghijklmnopqrstuvwxyzABCDEFGHIJKLMNOPQRSTUVWXYZ!\"#$%&\\'()*+,-./:;<=>?@[\\\\]^_{|}~ '\n",
    "for name in gens:\n",
    "    s = gens[name]()[:40]\n",
    "    s = ''.join([i for i in s if i in printable])\n",
    "    print(name, repr(s))\n",
    "    plt.imsave(f'../bar_code_examples/{name}.jpg', np.array(treepoem.generate_barcode(name, s)))"
   ]
  },
  {
   "cell_type": "code",
   "execution_count": null,
   "id": "af00ef60-7b94-4b60-b808-446058122060",
   "metadata": {},
   "outputs": [],
   "source": []
  }
 ],
 "metadata": {
  "kernelspec": {
   "display_name": "Python 3 (ipykernel)",
   "language": "python",
   "name": "python3"
  },
  "language_info": {
   "codemirror_mode": {
    "name": "ipython",
    "version": 3
   },
   "file_extension": ".py",
   "mimetype": "text/x-python",
   "name": "python",
   "nbconvert_exporter": "python",
   "pygments_lexer": "ipython3",
   "version": "3.12.4"
  }
 },
 "nbformat": 4,
 "nbformat_minor": 5
}
