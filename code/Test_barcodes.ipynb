{
 "cells": [
  {
   "cell_type": "code",
   "execution_count": 1,
   "id": "c870c5af-7df5-4a39-934f-96e243d1fba5",
   "metadata": {},
   "outputs": [],
   "source": [
    "import treepoem"
   ]
  },
  {
   "cell_type": "code",
   "execution_count": 2,
   "id": "b5fa4127-3e69-44ce-aa5c-7cd3cd54cb09",
   "metadata": {},
   "outputs": [],
   "source": [
    "tps = list(treepoem.barcode_types)"
   ]
  },
  {
   "cell_type": "code",
   "execution_count": 8,
   "id": "3a4365bf-6992-48a0-8741-9e88a579084c",
   "metadata": {},
   "outputs": [
    {
     "data": {
      "image/png": "[encoded data removed]",
      "text/plain": [
       "<PIL.PngImagePlugin.PngImageFile image mode=RGB size=190x144>"
      ]
     },
     "execution_count": 8,
     "metadata": {},
     "output_type": "execute_result"
    }
   ],
   "source": [
    "treepoem.generate_barcode('ean13', '100000011111')"
   ]
  },
  {
   "cell_type": "code",
   "execution_count": 6,
   "id": "40699408-5d46-4fe9-96dd-ef9186a6bcb7",
   "metadata": {},
   "outputs": [],
   "source": [
    "from io import BytesIO\n",
    "\n",
    "from barcode import EAN13\n",
    "from barcode.writer import ImageWriter"
   ]
  },
  {
   "cell_type": "code",
   "execution_count": 9,
   "id": "b8a274f5-80df-4ddd-b0d8-176713a5653d",
   "metadata": {},
   "outputs": [],
   "source": [
    "rv = BytesIO()\n",
    "with open(\"somefile.jpeg\", \"wb\") as f:\n",
    "    EAN13(\"100000011111\", writer=ImageWriter()).write(f)"
   ]
  }
 ],
 "metadata": {
  "kernelspec": {
   "display_name": "Python 3 (ipykernel)",
   "language": "python",
   "name": "python3"
  },
  "language_info": {
   "codemirror_mode": {
    "name": "ipython",
    "version": 3
   },
   "file_extension": ".py",
   "mimetype": "text/x-python",
   "name": "python",
   "nbconvert_exporter": "python",
   "pygments_lexer": "ipython3",
   "version": "3.11.4"
  }
 },
 "nbformat": 4,
 "nbformat_minor": 5
}
