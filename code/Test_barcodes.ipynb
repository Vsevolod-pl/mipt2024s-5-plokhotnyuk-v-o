{
 "cells": [
  {
   "cell_type": "code",
   "execution_count": 1,
   "id": "c870c5af-7df5-4a39-934f-96e243d1fba5",
   "metadata": {},
   "outputs": [],
   "source": [
    "import treepoem"
   ]
  },
  {
   "cell_type": "code",
   "execution_count": 2,
   "id": "b5fa4127-3e69-44ce-aa5c-7cd3cd54cb09",
   "metadata": {},
   "outputs": [],
   "source": [
    "tps = list(treepoem.barcode_types)"
   ]
  },
  {
   "cell_type": "code",
   "execution_count": 3,
   "id": "3a4365bf-6992-48a0-8741-9e88a579084c",
   "metadata": {},
   "outputs": [
    {
     "ename": "TreepoemError",
     "evalue": "Cannot determine path to ghostscript, is it installed?",
     "output_type": "error",
     "traceback": [
      "\u001b[1;31m---------------------------------------------------------------------------\u001b[0m",
      "\u001b[1;31mTreepoemError\u001b[0m                             Traceback (most recent call last)",
      "Cell \u001b[1;32mIn[3], line 2\u001b[0m\n\u001b[0;32m      1\u001b[0m tp \u001b[38;5;241m=\u001b[39m tps[\u001b[38;5;241m0\u001b[39m]\n\u001b[1;32m----> 2\u001b[0m treepoem\u001b[38;5;241m.\u001b[39mgenerate_barcode(tp, \u001b[38;5;124mb\u001b[39m\u001b[38;5;124m'\u001b[39m\u001b[38;5;124mhello world\u001b[39m\u001b[38;5;124m'\u001b[39m)\n",
      "File \u001b[1;32m~\\miniconda3\\Lib\\site-packages\\treepoem\\__init__.py:160\u001b[0m, in \u001b[0;36mgenerate_barcode\u001b[1;34m(barcode_type, data, options, scale)\u001b[0m\n\u001b[0;32m    153\u001b[0m bbox_code \u001b[38;5;241m=\u001b[39m BBOX_TEMPLATE\u001b[38;5;241m.\u001b[39mformat(\n\u001b[0;32m    154\u001b[0m     bwipp\u001b[38;5;241m=\u001b[39mbwipp,\n\u001b[0;32m    155\u001b[0m     data_options_encoder\u001b[38;5;241m=\u001b[39mindent(data_options_encoder, \u001b[38;5;124m\"\u001b[39m\u001b[38;5;124m  \u001b[39m\u001b[38;5;124m\"\u001b[39m),\n\u001b[0;32m    156\u001b[0m )\n\u001b[0;32m    157\u001b[0m page_offset \u001b[38;5;241m=\u001b[39m \u001b[38;5;241m3000\u001b[39m\n\u001b[0;32m    158\u001b[0m gs_process \u001b[38;5;241m=\u001b[39m subprocess\u001b[38;5;241m.\u001b[39mrun(\n\u001b[0;32m    159\u001b[0m     [\n\u001b[1;32m--> 160\u001b[0m         _ghostscript_binary(),\n\u001b[0;32m    161\u001b[0m         \u001b[38;5;124m\"\u001b[39m\u001b[38;5;124m-dSAFER\u001b[39m\u001b[38;5;124m\"\u001b[39m,\n\u001b[0;32m    162\u001b[0m         \u001b[38;5;124m\"\u001b[39m\u001b[38;5;124m-dQUIET\u001b[39m\u001b[38;5;124m\"\u001b[39m,\n\u001b[0;32m    163\u001b[0m         \u001b[38;5;124m\"\u001b[39m\u001b[38;5;124m-dNOPAUSE\u001b[39m\u001b[38;5;124m\"\u001b[39m,\n\u001b[0;32m    164\u001b[0m         \u001b[38;5;124m\"\u001b[39m\u001b[38;5;124m-dBATCH\u001b[39m\u001b[38;5;124m\"\u001b[39m,\n\u001b[0;32m    165\u001b[0m         \u001b[38;5;124m\"\u001b[39m\u001b[38;5;124m-sDEVICE=bbox\u001b[39m\u001b[38;5;124m\"\u001b[39m,\n\u001b[0;32m    166\u001b[0m         \u001b[38;5;124m\"\u001b[39m\u001b[38;5;124m-c\u001b[39m\u001b[38;5;124m\"\u001b[39m,\n\u001b[0;32m    167\u001b[0m         \u001b[38;5;124mf\u001b[39m\u001b[38;5;124m\"\u001b[39m\u001b[38;5;124m<</PageOffset [\u001b[39m\u001b[38;5;132;01m{\u001b[39;00mpage_offset\u001b[38;5;132;01m}\u001b[39;00m\u001b[38;5;124m \u001b[39m\u001b[38;5;132;01m{\u001b[39;00mpage_offset\u001b[38;5;132;01m}\u001b[39;00m\u001b[38;5;124m]>> setpagedevice\u001b[39m\u001b[38;5;124m\"\u001b[39m,\n\u001b[0;32m    168\u001b[0m         \u001b[38;5;124m\"\u001b[39m\u001b[38;5;124m-f\u001b[39m\u001b[38;5;124m\"\u001b[39m,\n\u001b[0;32m    169\u001b[0m         \u001b[38;5;124m\"\u001b[39m\u001b[38;5;124m-\u001b[39m\u001b[38;5;124m\"\u001b[39m,\n\u001b[0;32m    170\u001b[0m     ],\n\u001b[0;32m    171\u001b[0m     text\u001b[38;5;241m=\u001b[39m\u001b[38;5;28;01mTrue\u001b[39;00m,\n\u001b[0;32m    172\u001b[0m     capture_output\u001b[38;5;241m=\u001b[39m\u001b[38;5;28;01mTrue\u001b[39;00m,\n\u001b[0;32m    173\u001b[0m     check\u001b[38;5;241m=\u001b[39m\u001b[38;5;28;01mTrue\u001b[39;00m,\n\u001b[0;32m    174\u001b[0m     \u001b[38;5;28minput\u001b[39m\u001b[38;5;241m=\u001b[39mbbox_code,\n\u001b[0;32m    175\u001b[0m )\n\u001b[0;32m    176\u001b[0m err_output \u001b[38;5;241m=\u001b[39m gs_process\u001b[38;5;241m.\u001b[39mstderr\u001b[38;5;241m.\u001b[39mstrip()\n\u001b[0;32m    177\u001b[0m \u001b[38;5;66;03m# Unfortunately the error-handling in the postscript means that\u001b[39;00m\n\u001b[0;32m    178\u001b[0m \u001b[38;5;66;03m# returncode is 0 even if there was an error, but this gives\u001b[39;00m\n\u001b[0;32m    179\u001b[0m \u001b[38;5;66;03m# better error messages.\u001b[39;00m\n",
      "File \u001b[1;32m~\\miniconda3\\Lib\\site-packages\\treepoem\\__init__.py:101\u001b[0m, in \u001b[0;36m_ghostscript_binary\u001b[1;34m()\u001b[0m\n\u001b[0;32m     99\u001b[0m     \u001b[38;5;28;01mif\u001b[39;00m shutil\u001b[38;5;241m.\u001b[39mwhich(name) \u001b[38;5;129;01mis\u001b[39;00m \u001b[38;5;129;01mnot\u001b[39;00m \u001b[38;5;28;01mNone\u001b[39;00m:\n\u001b[0;32m    100\u001b[0m         \u001b[38;5;28;01mreturn\u001b[39;00m name\n\u001b[1;32m--> 101\u001b[0m \u001b[38;5;28;01mraise\u001b[39;00m TreepoemError(\u001b[38;5;124m\"\u001b[39m\u001b[38;5;124mCannot determine path to ghostscript, is it installed?\u001b[39m\u001b[38;5;124m\"\u001b[39m)\n",
      "\u001b[1;31mTreepoemError\u001b[0m: Cannot determine path to ghostscript, is it installed?"
     ]
    }
   ],
   "source": [
    "tp = tps[0]\n",
    "treepoem.generate_barcode(tp, b'hello world')"
   ]
  },
  {
   "cell_type": "code",
   "execution_count": 4,
   "id": "6ffb5120-4153-4c47-9a01-64d18fdb281c",
   "metadata": {},
   "outputs": [],
   "source": [
    "import shutil"
   ]
  },
  {
   "cell_type": "code",
   "execution_count": 10,
   "id": "8a096073-b76c-4ec3-9afc-2b9c16139133",
   "metadata": {},
   "outputs": [],
   "source": [
    "shutil.which('C:\\Program Files\\gs\\gs10.03.0\\bin\\gs.exe')"
   ]
  },
  {
   "cell_type": "code",
   "execution_count": 6,
   "id": "7667f8e8-54c8-4d5e-8528-360304c657a2",
   "metadata": {},
   "outputs": [],
   "source": [
    "import os"
   ]
  },
  {
   "cell_type": "code",
   "execution_count": 9,
   "id": "c5232468-f093-4f47-b31e-0b171ab6a844",
   "metadata": {},
   "outputs": [
    {
     "ename": "TypeError",
     "evalue": "access() missing required argument 'mode' (pos 2)",
     "output_type": "error",
     "traceback": [
      "\u001b[1;31m---------------------------------------------------------------------------\u001b[0m",
      "\u001b[1;31mTypeError\u001b[0m                                 Traceback (most recent call last)",
      "Cell \u001b[1;32mIn[9], line 1\u001b[0m\n\u001b[1;32m----> 1\u001b[0m os\u001b[38;5;241m.\u001b[39maccess(\u001b[38;5;124m'\u001b[39m\u001b[38;5;124mC:\u001b[39m\u001b[38;5;124m\\\u001b[39m\u001b[38;5;124mProgram Files\u001b[39m\u001b[38;5;124m\\\u001b[39m\u001b[38;5;124mgs\u001b[39m\u001b[38;5;124m\\\u001b[39m\u001b[38;5;124mgs10.03.0\u001b[39m\u001b[38;5;130;01m\\b\u001b[39;00m\u001b[38;5;124min\u001b[39m\u001b[38;5;124m\\\u001b[39m\u001b[38;5;124mgs.exe\u001b[39m\u001b[38;5;124m'\u001b[39m)\n",
      "\u001b[1;31mTypeError\u001b[0m: access() missing required argument 'mode' (pos 2)"
     ]
    }
   ],
   "source": [
    "os.access('C:\\Program Files\\gs\\gs10.03.0\\bin\\gs.exe')"
   ]
  },
  {
   "cell_type": "code",
   "execution_count": 6,
   "id": "40699408-5d46-4fe9-96dd-ef9186a6bcb7",
   "metadata": {},
   "outputs": [],
   "source": [
    "from io import BytesIO\n",
    "\n",
    "from barcode import EAN13\n",
    "from barcode.writer import ImageWriter"
   ]
  },
  {
   "cell_type": "code",
   "execution_count": 9,
   "id": "b8a274f5-80df-4ddd-b0d8-176713a5653d",
   "metadata": {},
   "outputs": [],
   "source": [
    "rv = BytesIO()\n",
    "with open(\"somefile.jpeg\", \"wb\") as f:\n",
    "    EAN13(\"100000011111\", writer=ImageWriter()).write(f)"
   ]
  },
  {
   "cell_type": "code",
   "execution_count": 8,
   "id": "7f4da549-6c8f-4384-913c-0d2276028c8a",
   "metadata": {},
   "outputs": [
    {
     "data": {
      "text/plain": [
       "<_io.BytesIO at 0x2125e494270>"
      ]
     },
     "execution_count": 8,
     "metadata": {},
     "output_type": "execute_result"
    }
   ],
   "source": []
  }
 ],
 "metadata": {
  "kernelspec": {
   "display_name": "Python 3 (ipykernel)",
   "language": "python",
   "name": "python3"
  },
  "language_info": {
   "codemirror_mode": {
    "name": "ipython",
    "version": 3
   },
   "file_extension": ".py",
   "mimetype": "text/x-python",
   "name": "python",
   "nbconvert_exporter": "python",
   "pygments_lexer": "ipython3",
   "version": "3.11.4"
  }
 },
 "nbformat": 4,
 "nbformat_minor": 5
}
