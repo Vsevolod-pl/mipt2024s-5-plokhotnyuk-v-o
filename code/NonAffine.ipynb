{
 "cells": [
  {
   "cell_type": "code",
   "execution_count": 3,
   "id": "b7ea9854-2eeb-4166-9d1b-8b0a3260cfb7",
   "metadata": {},
   "outputs": [],
   "source": [
    "import cv2\n",
    "import json\n",
    "import treepoem\n",
    "import numpy as np\n",
    "import sympy as sp\n",
    "from pathlib import Path\n",
    "from matplotlib import pyplot as plt"
   ]
  },
  {
   "cell_type": "code",
   "execution_count": 73,
   "id": "ba72c3d6-9c3f-4163-925a-24fda2949114",
   "metadata": {},
   "outputs": [
    {
     "name": "stdout",
     "output_type": "stream",
     "text": [
      "3.3306690738754696e-16\n"
     ]
    },
    {
     "data": {
      "text/plain": [
       "<matplotlib.image.AxesImage at 0x272debc42d0>"
      ]
     },
     "execution_count": 73,
     "metadata": {},
     "output_type": "execute_result"
    },
    {
     "data": {
      "image/png": "[encoded data removed]",
      "text/plain": [
       "<Figure size 640x480 with 1 Axes>"
      ]
     },
     "metadata": {},
     "output_type": "display_data"
    }
   ],
   "source": [
    "c3d = [\n",
    "    [0,0,0],\n",
    "    [0,1,1],\n",
    "    [1,1,0],\n",
    "    [1,0,0],\n",
    "]\n",
    "\n",
    "c2d = [\n",
    "    [0, 0],\n",
    "    [0, 1],\n",
    "    [0.75, 0.75],\n",
    "    [0.75, 0.25]\n",
    "]\n",
    "A,_, _, _ = np.linalg.lstsq(c3d, c2d, rcond=-1)\n",
    "print(np.abs(c3d@A - c2d).max())\n",
    "# plt.scatter(*(c3d@A).T)\n",
    "plt.imshow(A)\n",
    "# A"
   ]
  },
  {
   "cell_type": "code",
   "execution_count": 74,
   "id": "9454ba38-c694-4c8c-ab8f-c973f923a8be",
   "metadata": {},
   "outputs": [
    {
     "data": {
      "text/plain": [
       "array([[ 7.50000000e-01,  2.50000000e-01],\n",
       "       [ 0.00000000e+00,  5.00000000e-01],\n",
       "       [-3.92523115e-17,  5.00000000e-01]])"
      ]
     },
     "execution_count": 74,
     "metadata": {},
     "output_type": "execute_result"
    }
   ],
   "source": [
    "A"
   ]
  }
 ],
 "metadata": {
  "kernelspec": {
   "display_name": "Python 3 (ipykernel)",
   "language": "python",
   "name": "python3"
  },
  "language_info": {
   "codemirror_mode": {
    "name": "ipython",
    "version": 3
   },
   "file_extension": ".py",
   "mimetype": "text/x-python",
   "name": "python",
   "nbconvert_exporter": "python",
   "pygments_lexer": "ipython3",
   "version": "3.11.4"
  }
 },
 "nbformat": 4,
 "nbformat_minor": 5
}
